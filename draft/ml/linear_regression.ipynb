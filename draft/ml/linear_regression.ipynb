{
 "cells": [
  {
   "cell_type": "code",
   "execution_count": null,
   "metadata": {},
   "outputs": [],
   "source": [
    "# Importing libraries\n",
    "\n",
    "import numpy as np\n",
    "from sklearn.model_selection import train_test_split\n",
    "from sklearn.datasets import load_diabetes"
   ]
  },
  {
   "cell_type": "code",
   "execution_count": null,
   "metadata": {},
   "outputs": [],
   "source": [
    "class LinearRegression() :\n",
    "\t\n",
    "\tdef __init__(self, learning_rate, iterations) :\n",
    "\t\tself.learning_rate = learning_rate\n",
    "\t\tself.iterations = iterations\n",
    "\t\t\t\n",
    "\tdef fit(self, X, Y) :\n",
    "\t\tself.m, self.n = X.shape\n",
    "\t\t# weight initialization\n",
    "\t\tself.W = np.zeros( self.n )\n",
    "\t\tself.b = 0\n",
    "\t\tself.X = X\n",
    "\t\tself.Y = Y\n",
    "\t\t\n",
    "\t\t# gradient descent learning\n",
    "\t\tfor _ in range(self.iterations) :\n",
    "\t\t\tself.update_weights()\n",
    "\t\t\t\n",
    "\t\treturn self\n",
    "\t\n",
    "\tdef update_weights(self) :\n",
    "\t\tY_pred = self.predict(self.X)\n",
    "\t\t\n",
    "\t\t# calculate gradients\n",
    "\t\tdW = - (2 * (self.X.T).dot(self.Y - Y_pred)) / self.m\n",
    "\t\tdb = - 2 * np.sum(self.Y - Y_pred) / self.m\n",
    "\t\t\n",
    "\t\t# update weights\n",
    "\t\tself.W = self.W - self.learning_rate * dW\n",
    "\t\tself.b = self.b - self.learning_rate * db\n",
    "\t\t\n",
    "\t\treturn self\n",
    "\t\n",
    "\t# Hypothetical function h( x )\n",
    "\t\n",
    "\tdef predict(self, X) :\n",
    "\t\n",
    "\t\treturn X.dot(self.W) + self.b"
   ]
  },
  {
   "cell_type": "code",
   "execution_count": null,
   "metadata": {},
   "outputs": [],
   "source": [
    "# Load sample datasets\n",
    "X, y = load_diabetes(return_X_y=True, as_frame=True)\n",
    "X.head(5)"
   ]
  },
  {
   "cell_type": "code",
   "execution_count": null,
   "metadata": {},
   "outputs": [],
   "source": [
    "X_train, X_test, y_train, y_test = train_test_split(X, y, test_size = 0.25, random_state = 0)"
   ]
  },
  {
   "cell_type": "code",
   "execution_count": null,
   "metadata": {},
   "outputs": [],
   "source": [
    "model = LinearRegression(learning_rate=0.001, iterations=100)\n",
    "model.fit(X_train, y_train)"
   ]
  },
  {
   "cell_type": "code",
   "execution_count": null,
   "metadata": {},
   "outputs": [],
   "source": [
    "y_pred = model.predict(X_test)"
   ]
  },
  {
   "cell_type": "code",
   "execution_count": null,
   "metadata": {},
   "outputs": [],
   "source": [
    "# TODO visualize outputs"
   ]
  }
 ],
 "metadata": {
  "kernelspec": {
   "display_name": "dev",
   "language": "python",
   "name": "python3"
  },
  "language_info": {
   "name": "python",
   "version": "3.10.4 (main, Mar 31 2022, 08:41:55) [GCC 7.5.0]"
  },
  "orig_nbformat": 4,
  "vscode": {
   "interpreter": {
    "hash": "f31e9c767302ef99e809170bb9c57774254e913586415615cd5e82b64abe4fe9"
   }
  }
 },
 "nbformat": 4,
 "nbformat_minor": 2
}
