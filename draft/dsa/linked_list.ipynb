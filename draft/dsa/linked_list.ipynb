{
 "cells": [
  {
   "cell_type": "code",
   "execution_count": 46,
   "metadata": {},
   "outputs": [],
   "source": [
    "from typing import Optional\n",
    "from dataclasses import dataclass\n",
    "\n",
    "@dataclass\n",
    "class Node:\n",
    "    value: int\n",
    "    next: Optional['Node'] = None"
   ]
  },
  {
   "cell_type": "code",
   "execution_count": 47,
   "metadata": {},
   "outputs": [],
   "source": [
    "def create_linked_list(_input):\n",
    "    if len(_input) == 1:\n",
    "        return Node(_input.pop(0))\n",
    "    \n",
    "    return Node(_input.pop(0), create_linked_list(_input))\n"
   ]
  },
  {
   "cell_type": "code",
   "execution_count": 48,
   "metadata": {},
   "outputs": [
    {
     "name": "stdout",
     "output_type": "stream",
     "text": [
      "110\n",
      "96\n"
     ]
    }
   ],
   "source": [
    "a = [110,96]\n",
    "first_node = create_linked_list(a)\n",
    "print(first_node.value)\n",
    "second_node = first_node.next\n",
    "print(second_node.value)"
   ]
  },
  {
   "cell_type": "code",
   "execution_count": 50,
   "metadata": {},
   "outputs": [
    {
     "data": {
      "text/plain": [
       "2"
      ]
     },
     "execution_count": 50,
     "metadata": {},
     "output_type": "execute_result"
    }
   ],
   "source": [
    "\"\"\"\n",
    "Find the Duplicate Number - Floyd's Cycle Detection - Leetcode 287\n",
    "\n",
    "Restrictions:\n",
    "_ 1 <=a[i] <= n for i in [0, n+1]\n",
    "_ constant space complexity => cannot use hash\n",
    "_ no modifying original input => cannot change any element value\n",
    "\n",
    "Reference: Youtube channel `Neet Code`\n",
    "\"\"\"\n",
    "input = [1,2,3,4,2]\n",
    "\n",
    "def find_dup(nums: list[int]):\n",
    "    slow, fast = 0, 0\n",
    "    while True:\n",
    "        slow = nums[slow]\n",
    "        fast = nums[nums[fast]]\n",
    "        if slow == fast:\n",
    "            break\n",
    "\n",
    "    slow2= 0 \n",
    "    while True:\n",
    "        slow = nums[slow]\n",
    "        slow2 = nums[slow2]\n",
    "        if slow == slow2:\n",
    "            return slow\n",
    "\n",
    "find_dup(input)"
   ]
  },
  {
   "cell_type": "code",
   "execution_count": null,
   "metadata": {},
   "outputs": [],
   "source": []
  }
 ],
 "metadata": {
  "kernelspec": {
   "display_name": "Python 3.10.4 ('dev')",
   "language": "python",
   "name": "python3"
  },
  "language_info": {
   "codemirror_mode": {
    "name": "ipython",
    "version": 3
   },
   "file_extension": ".py",
   "mimetype": "text/x-python",
   "name": "python",
   "nbconvert_exporter": "python",
   "pygments_lexer": "ipython3",
   "version": "3.10.4"
  },
  "orig_nbformat": 4,
  "vscode": {
   "interpreter": {
    "hash": "f31e9c767302ef99e809170bb9c57774254e913586415615cd5e82b64abe4fe9"
   }
  }
 },
 "nbformat": 4,
 "nbformat_minor": 2
}
