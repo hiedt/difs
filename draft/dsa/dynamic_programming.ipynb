{
 "cells": [
  {
   "cell_type": "markdown",
   "metadata": {},
   "source": [
    "### Type 1: Memoization"
   ]
  },
  {
   "cell_type": "code",
   "execution_count": 1,
   "metadata": {},
   "outputs": [],
   "source": [
    "\"\"\"\n",
    "Find the i-th element of the Fibonacci sequence\n",
    "\"\"\"\n",
    "\n",
    "def fib(n: int, hash={}):\n",
    "    if n in hash.keys():\n",
    "        return hash[n]\n",
    "    if n <= 2:\n",
    "        return 1\n",
    "    tmp = fib(n-1, hash) + fib(n-2, hash)\n",
    "    hash[n] = tmp\n",
    "    return hash[n]"
   ]
  },
  {
   "cell_type": "code",
   "execution_count": 5,
   "metadata": {},
   "outputs": [
    {
     "data": {
      "text/plain": [
       "True"
      ]
     },
     "execution_count": 5,
     "metadata": {},
     "output_type": "execute_result"
    }
   ],
   "source": [
    "fib(10) == 55"
   ]
  },
  {
   "cell_type": "code",
   "execution_count": 7,
   "metadata": {},
   "outputs": [],
   "source": [
    "\"\"\"\n",
    "Given an (M,N) grid.\n",
    "Find the no. ways to go from (0,0) to (M,N).\n",
    "Can only move right and down.\n",
    "\"\"\"\n",
    "def ways(m: int, n: int, hash={}):\n",
    "    key = f'{m},{n}'\n",
    "    if key in hash.keys():\n",
    "        return hash[key]\n",
    "\n",
    "    if m == 1 and n == 1:\n",
    "        return 1\n",
    "\n",
    "    if m == 0 or n == 0:\n",
    "        return 0\n",
    "    \n",
    "    hash[key] = ways(m-1, n, hash) + ways(m, n-1, hash)\n",
    "    \n",
    "    return hash[key]\n",
    "    "
   ]
  },
  {
   "cell_type": "code",
   "execution_count": 13,
   "metadata": {},
   "outputs": [
    {
     "data": {
      "text/plain": [
       "True"
      ]
     },
     "execution_count": 13,
     "metadata": {},
     "output_type": "execute_result"
    }
   ],
   "source": [
    "ways(2,4) == 4"
   ]
  }
 ],
 "metadata": {
  "kernelspec": {
   "display_name": "Python 3.10.4 ('dev')",
   "language": "python",
   "name": "python3"
  },
  "language_info": {
   "codemirror_mode": {
    "name": "ipython",
    "version": 3
   },
   "file_extension": ".py",
   "mimetype": "text/x-python",
   "name": "python",
   "nbconvert_exporter": "python",
   "pygments_lexer": "ipython3",
   "version": "3.10.4"
  },
  "orig_nbformat": 4,
  "vscode": {
   "interpreter": {
    "hash": "f31e9c767302ef99e809170bb9c57774254e913586415615cd5e82b64abe4fe9"
   }
  }
 },
 "nbformat": 4,
 "nbformat_minor": 2
}
