{
 "cells": [
  {
   "cell_type": "code",
   "execution_count": null,
   "metadata": {},
   "outputs": [],
   "source": [
    "\"\"\"\n",
    "Given an array. Calculate a new array with the same length, its i-th element = multiplication of all other elements\n",
    "\n",
    "Example 1:\n",
    "- Input: [1, 2, 3]\n",
    "- Output: [6, 3, 2]\n",
    "\n",
    "Example 2:\n",
    "- Input: [3,2,4,1]\n",
    "- Ouptut: [8, 12, 6, 24]\n",
    "\"\"\"\n",
    "\n",
    "def multiply_other_elements(array):\n",
    "    l = len(array)\n",
    "    left = [1]*l \n",
    "    right = [1]*l\n",
    "    result = [1]*l\n",
    "    # Calculate the multiplication of all elements to the left of the current i-th position\n",
    "    for i in range(l):\n",
    "        if i == 0:\n",
    "            pass\n",
    "        else:\n",
    "            left[i] = left[i-1]*array[i-1]\n",
    "\n",
    "    # Calculate the multiplication of all elements to the right of the current i-th position\n",
    "    for j in reversed(range(l)):\n",
    "        if j == l-1:\n",
    "            pass\n",
    "        else:\n",
    "            right[j] = right[j+1]*array[j+1]\n",
    "\n",
    "    # Final results[i] = left[i]*right[i]\n",
    "    for k in range(l):\n",
    "        result[k] = left[k]*right[k]\n",
    "\n",
    "    return result"
   ]
  },
  {
   "cell_type": "code",
   "execution_count": null,
   "metadata": {},
   "outputs": [],
   "source": [
    "\"\"\"\n",
    "Given an array A and a number X. Find the pair of 2 elements Ai & Aj that their product Ai*Aj = X \n",
    "\n",
    "Example 1: \n",
    "- Input A: [5,6,4,2]\n",
    "- Input X: 20\n",
    "- Ouptut: [0, 2] as A[0] = 5, A[2] = 4 and A[0]*A[2]=20\n",
    "\"\"\"\n",
    "\n",
    "def multiply_2elements(array, product):\n",
    "    pair_index = {}\n",
    "    results = []\n",
    "    # Create a dictionary to store pairs' indices\n",
    "    for index, element in enumerate(array):\n",
    "        if (product % element==0):\n",
    "            pairer = int(product/element)\n",
    "            pair_index[pairer] = index\n",
    "        else:\n",
    "            pass\n",
    "\n",
    "    # Find the pairs\n",
    "    for index, element in enumerate(array):\n",
    "        if element in (pair_index.keys()):\n",
    "            results.append((index, pair_index[element]))\n",
    "\n",
    "    return results"
   ]
  },
  {
   "cell_type": "code",
   "execution_count": null,
   "metadata": {},
   "outputs": [],
   "source": [
    "\"\"\"\n",
    "Leetcode 1462\n",
    "\"\"\"\n",
    "\n",
    "def maxProduct(self, nums: List[int]) -> int:        \n",
    "        max_ = [nums[0]-1, nums[1]-1] if nums[0]-1>nums[1]-1 else [nums[1]-1, nums[0]-1]\n",
    "\n",
    "        for i in range(2, len(nums)):\n",
    "            if nums[i]-1 > max_[1]:\n",
    "                if nums[i]-1 > max_[0]:\n",
    "                    max_[1] = max_[0]\n",
    "                    max_[0] = nums[i]-1\n",
    "                else:\n",
    "                    max_[1] = nums[i]-1\n",
    "            # print(max_)\n",
    "        return max_[0] * max_[1]"
   ]
  },
  {
   "cell_type": "code",
   "execution_count": 5,
   "metadata": {},
   "outputs": [
    {
     "data": {
      "text/plain": [
       "[2, 3]"
      ]
     },
     "execution_count": 5,
     "metadata": {},
     "output_type": "execute_result"
    }
   ],
   "source": [
    "\"\"\"\n",
    "Leetcode 442. Find all duplicates in an array\n",
    "\n",
    "Restrictions:\n",
    "_ 1 <=a[i] <= n for i in [0, n]\n",
    "_ Linear runtime & no extra space => cannot use hash map\n",
    "\"\"\"\n",
    "input = [4,3,2,7,8,2,3,5]\n",
    "\n",
    "def find_dups(nums: list[int]):\n",
    "    results = []\n",
    "    for i in nums:\n",
    "        if nums[abs(i)-1] > 0:\n",
    "            nums[abs(i)-1] = -nums[abs(i)-1]\n",
    "        else:\n",
    "            results.append(abs(i))\n",
    "\n",
    "    return results\n",
    "\n",
    "find_dups(input)"
   ]
  },
  {
   "cell_type": "code",
   "execution_count": null,
   "metadata": {},
   "outputs": [],
   "source": []
  }
 ],
 "metadata": {
  "kernelspec": {
   "display_name": "Python 3.10.4 ('dev')",
   "language": "python",
   "name": "python3"
  },
  "language_info": {
   "codemirror_mode": {
    "name": "ipython",
    "version": 3
   },
   "file_extension": ".py",
   "mimetype": "text/x-python",
   "name": "python",
   "nbconvert_exporter": "python",
   "pygments_lexer": "ipython3",
   "version": "3.10.4"
  },
  "orig_nbformat": 4,
  "vscode": {
   "interpreter": {
    "hash": "f31e9c767302ef99e809170bb9c57774254e913586415615cd5e82b64abe4fe9"
   }
  }
 },
 "nbformat": 4,
 "nbformat_minor": 2
}
