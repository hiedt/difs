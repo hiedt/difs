{
 "cells": [
  {
   "cell_type": "markdown",
   "metadata": {},
   "source": [
    "# Properties of Dynamical Systems"
   ]
  },
  {
   "cell_type": "markdown",
   "metadata": {},
   "source": [
    "## Linearity\n",
    "\n",
    "## Time Variance\n",
    "\n",
    "```{Attention} Linear Time-invariant (LTI)\n",
    ":name: lti\n",
    "\n",
    "Most undegraduate textbooks only dealwith LTI systems.\n",
    "```"
   ]
  }
 ],
 "metadata": {
  "language_info": {
   "name": "python"
  }
 },
 "nbformat": 4,
 "nbformat_minor": 2
}
